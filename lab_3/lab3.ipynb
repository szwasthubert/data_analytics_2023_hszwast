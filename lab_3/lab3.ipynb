{
 "cells": [
  {
   "cell_type": "code",
   "execution_count": 29,
   "metadata": {},
   "outputs": [],
   "source": [
    "from cmdstanpy import CmdStanModel\n",
    "import pandas as pd\n",
    "import arviz as az \n",
    "import numpy as np\n",
    "import matplotlib.pyplot as plt\n",
    "import scipy.stats as stats"
   ]
  },
  {
   "attachments": {},
   "cell_type": "markdown",
   "metadata": {},
   "source": [
    "### Modeling prior predictive distribution\n",
    "\n"
   ]
  },
  {
   "cell_type": "code",
   "execution_count": 22,
   "metadata": {},
   "outputs": [
    {
     "name": "stderr",
     "output_type": "stream",
     "text": [
      "INFO:cmdstanpy:compiling stan file /root/data_analytics/lab_3/stan_files/model_1.stan to exe file /root/data_analytics/lab_3/stan_files/model_1\n",
      "INFO:cmdstanpy:compiled model executable: /root/data_analytics/lab_3/stan_files/model_1\n"
     ]
    }
   ],
   "source": [
    "allergies = CmdStanModel(stan_file='stan_files/model_1.stan')"
   ]
  },
  {
   "cell_type": "code",
   "execution_count": null,
   "metadata": {},
   "outputs": [],
   "source": [
    "samples = allergies.sample(fixed_param=True, iter_sampling=1000, iter_warmup=0, chains = 1)"
   ]
  },
  {
   "cell_type": "code",
   "execution_count": 26,
   "metadata": {},
   "outputs": [
    {
     "name": "stdout",
     "output_type": "stream",
     "text": [
      "     lp__  accept_stat__     N     y         p\n",
      "0     0.0            0.0  50.0   0.0  0.039975\n",
      "1     0.0            0.0  50.0   1.0  0.045404\n",
      "2     0.0            0.0  50.0  13.0  0.325394\n",
      "3     0.0            0.0  50.0  17.0  0.296855\n",
      "4     0.0            0.0  50.0   1.0  0.054696\n",
      "..    ...            ...   ...   ...       ...\n",
      "995   0.0            0.0  50.0  23.0  0.532759\n",
      "996   0.0            0.0  50.0   9.0  0.120443\n",
      "997   0.0            0.0  50.0   3.0  0.112695\n",
      "998   0.0            0.0  50.0   9.0  0.192352\n",
      "999   0.0            0.0  50.0   0.0  0.005851\n",
      "\n",
      "[1000 rows x 5 columns]\n"
     ]
    },
    {
     "data": {
      "text/plain": [
       "<AxesSubplot:ylabel='Frequency'>"
      ]
     },
     "execution_count": 26,
     "metadata": {},
     "output_type": "execute_result"
    },
    {
     "data": {
      "image/png": "[encoded data removed]",
      "text/plain": [
       "<Figure size 432x288 with 1 Axes>"
      ]
     },
     "metadata": {
      "needs_background": "light"
     },
     "output_type": "display_data"
    }
   ],
   "source": [
    "draws_pd = samples.draws_pd()\n",
    "print(draws_pd)\n",
    "draws_pd['y'].plot.hist(bins=30)\n"
   ]
  },
  {
   "cell_type": "code",
   "execution_count": 28,
   "metadata": {},
   "outputs": [
    {
     "data": {
      "text/plain": [
       "0.16760000000000003"
      ]
     },
     "execution_count": 28,
     "metadata": {},
     "output_type": "execute_result"
    }
   ],
   "source": [
    "# Ratio mean\n",
    "(draws_pd['y'] / 50).mean()\n",
    "\n",
    "## It's slightly lower than the expected 20%"
   ]
  },
  {
   "cell_type": "code",
   "execution_count": null,
   "metadata": {},
   "outputs": [],
   "source": []
  },
  {
   "attachments": {},
   "cell_type": "markdown",
   "metadata": {},
   "source": [
    "### Modeling posterior and posterior predictive distribution\n",
    "\n"
   ]
  },
  {
   "cell_type": "code",
   "execution_count": null,
   "metadata": {},
   "outputs": [],
   "source": []
  }
 ],
 "metadata": {
  "kernelspec": {
   "display_name": "Python 3",
   "language": "python",
   "name": "python3"
  },
  "language_info": {
   "codemirror_mode": {
    "name": "ipython",
    "version": 3
   },
   "file_extension": ".py",
   "mimetype": "text/x-python",
   "name": "python",
   "nbconvert_exporter": "python",
   "pygments_lexer": "ipython3",
   "version": "3.9.11"
  },
  "orig_nbformat": 4
 },
 "nbformat": 4,
 "nbformat_minor": 2
}
