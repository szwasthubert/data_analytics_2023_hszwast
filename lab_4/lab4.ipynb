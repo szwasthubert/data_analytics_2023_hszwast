{
 "cells": [
  {
   "attachments": {},
   "cell_type": "markdown",
   "metadata": {},
   "source": [
    "# Lab 4 - Linear models\n",
    "\n",
    "We focus on models in the form \n",
    "\n",
    "$$ y \\sim \\mathrm{Normal}(\\alpha+X\\beta,\\sigma) $$\n",
    "\n"
   ]
  },
  {
   "cell_type": "code",
   "execution_count": 1,
   "metadata": {},
   "outputs": [
    {
     "name": "stderr",
     "output_type": "stream",
     "text": [
      "/usr/local/lib/python3.9/site-packages/tqdm/auto.py:22: TqdmWarning: IProgress not found. Please update jupyter and ipywidgets. See https://ipywidgets.readthedocs.io/en/stable/user_install.html\n",
      "  from .autonotebook import tqdm as notebook_tqdm\n"
     ]
    }
   ],
   "source": [
    "from cmdstanpy import CmdStanModel\n",
    "\n",
    "\n",
    "import arviz as az\n",
    "import numpy as np\n",
    "import scipy.stats as stats\n",
    "\n",
    "import matplotlib.pyplot as plt\n",
    "import pandas as pd"
   ]
  },
  {
   "cell_type": "markdown",
   "metadata": {},
   "source": [
    "## Excercise 1 - modelling height of !Kung people"
   ]
  },
  {
   "cell_type": "markdown",
   "metadata": {},
   "source": [
    "### Normal model - no predictors\n",
    "We will try to fit $\\mathrm{Normal}(\\mu,\\sigma)$ distribution to height data. Special case of linear model with $\\beta=0$."
   ]
  },
  {
   "cell_type": "code",
   "execution_count": 2,
   "metadata": {},
   "outputs": [
    {
     "data": {
      "text/html": [
       "<div>\n",
       "<style scoped>\n",
       "    .dataframe tbody tr th:only-of-type {\n",
       "        vertical-align: middle;\n",
       "    }\n",
       "\n",
       "    .dataframe tbody tr th {\n",
       "        vertical-align: top;\n",
       "    }\n",
       "\n",
       "    .dataframe thead th {\n",
       "        text-align: right;\n",
       "    }\n",
       "</style>\n",
       "<table border=\"1\" class=\"dataframe\">\n",
       "  <thead>\n",
       "    <tr style=\"text-align: right;\">\n",
       "      <th></th>\n",
       "      <th>height</th>\n",
       "      <th>weight</th>\n",
       "      <th>age</th>\n",
       "      <th>male</th>\n",
       "    </tr>\n",
       "  </thead>\n",
       "  <tbody>\n",
       "    <tr>\n",
       "      <th>0</th>\n",
       "      <td>151.765</td>\n",
       "      <td>47.825606</td>\n",
       "      <td>63.0</td>\n",
       "      <td>1</td>\n",
       "    </tr>\n",
       "    <tr>\n",
       "      <th>1</th>\n",
       "      <td>139.700</td>\n",
       "      <td>36.485807</td>\n",
       "      <td>63.0</td>\n",
       "      <td>0</td>\n",
       "    </tr>\n",
       "    <tr>\n",
       "      <th>2</th>\n",
       "      <td>136.525</td>\n",
       "      <td>31.864838</td>\n",
       "      <td>65.0</td>\n",
       "      <td>0</td>\n",
       "    </tr>\n",
       "    <tr>\n",
       "      <th>3</th>\n",
       "      <td>156.845</td>\n",
       "      <td>53.041914</td>\n",
       "      <td>41.0</td>\n",
       "      <td>1</td>\n",
       "    </tr>\n",
       "    <tr>\n",
       "      <th>4</th>\n",
       "      <td>145.415</td>\n",
       "      <td>41.276872</td>\n",
       "      <td>51.0</td>\n",
       "      <td>0</td>\n",
       "    </tr>\n",
       "  </tbody>\n",
       "</table>\n",
       "</div>"
      ],
      "text/plain": [
       "    height     weight   age  male\n",
       "0  151.765  47.825606  63.0     1\n",
       "1  139.700  36.485807  63.0     0\n",
       "2  136.525  31.864838  65.0     0\n",
       "3  156.845  53.041914  41.0     1\n",
       "4  145.415  41.276872  51.0     0"
      ]
     },
     "execution_count": 2,
     "metadata": {},
     "output_type": "execute_result"
    }
   ],
   "source": [
    "_BASE_URL = \"https://raw.githubusercontent.com/rmcelreath/rethinking/Experimental/data\"\n",
    "HOWELL_DATASET_PATH = f\"{_BASE_URL}/Howell1.csv\"\n",
    "d = pd.read_csv(HOWELL_DATASET_PATH, sep=';', header=0)\n",
    "d=d[d.age>=18] #just adults \n",
    "d.head()"
   ]
  },
  {
   "attachments": {},
   "cell_type": "markdown",
   "metadata": {},
   "source": [
    "## Task 1. Prior predictive checks"
   ]
  },
  {
   "cell_type": "code",
   "execution_count": 3,
   "metadata": {},
   "outputs": [
    {
     "name": "stderr",
     "output_type": "stream",
     "text": [
      "INFO:cmdstanpy:found newer exe file, not recompiling\n"
     ]
    }
   ],
   "source": [
    "model_ppc=CmdStanModel(stan_file='stan_files/height_1_ppc.stan')"
   ]
  },
  {
   "cell_type": "code",
   "execution_count": 4,
   "metadata": {},
   "outputs": [
    {
     "name": "stderr",
     "output_type": "stream",
     "text": [
      "INFO:cmdstanpy:CmdStan start processing\n",
      "chain 1 |\u001b[34m██████████\u001b[0m| 00:00 Sampling completed"
     ]
    },
    {
     "name": "stdout",
     "output_type": "stream",
     "text": [
      "                                                                                "
     ]
    },
    {
     "name": "stderr",
     "output_type": "stream",
     "text": [
      "\n",
      "INFO:cmdstanpy:CmdStan done processing.\n"
     ]
    },
    {
     "name": "stdout",
     "output_type": "stream",
     "text": [
      "\n"
     ]
    }
   ],
   "source": [
    "R = 1000\n",
    "sim=model_ppc.sample(iter_sampling=R,\n",
    "                     iter_warmup=0,\n",
    "                     chains=1,\n",
    "                     fixed_param=True,\n",
    "                     seed=29042020,refresh=R)"
   ]
  },
  {
   "cell_type": "code",
   "execution_count": 5,
   "metadata": {},
   "outputs": [
    {
     "data": {
      "text/html": [
       "<div>\n",
       "<style scoped>\n",
       "    .dataframe tbody tr th:only-of-type {\n",
       "        vertical-align: middle;\n",
       "    }\n",
       "\n",
       "    .dataframe tbody tr th {\n",
       "        vertical-align: top;\n",
       "    }\n",
       "\n",
       "    .dataframe thead th {\n",
       "        text-align: right;\n",
       "    }\n",
       "</style>\n",
       "<table border=\"1\" class=\"dataframe\">\n",
       "  <thead>\n",
       "    <tr style=\"text-align: right;\">\n",
       "      <th></th>\n",
       "      <th>lp__</th>\n",
       "      <th>accept_stat__</th>\n",
       "      <th>mu</th>\n",
       "      <th>sigma</th>\n",
       "      <th>height</th>\n",
       "    </tr>\n",
       "  </thead>\n",
       "  <tbody>\n",
       "    <tr>\n",
       "      <th>0</th>\n",
       "      <td>0.0</td>\n",
       "      <td>0.0</td>\n",
       "      <td>188.541</td>\n",
       "      <td>16.5544</td>\n",
       "      <td>167.479</td>\n",
       "    </tr>\n",
       "    <tr>\n",
       "      <th>1</th>\n",
       "      <td>0.0</td>\n",
       "      <td>0.0</td>\n",
       "      <td>175.638</td>\n",
       "      <td>12.2212</td>\n",
       "      <td>178.646</td>\n",
       "    </tr>\n",
       "    <tr>\n",
       "      <th>2</th>\n",
       "      <td>0.0</td>\n",
       "      <td>0.0</td>\n",
       "      <td>180.994</td>\n",
       "      <td>19.5307</td>\n",
       "      <td>199.955</td>\n",
       "    </tr>\n",
       "    <tr>\n",
       "      <th>3</th>\n",
       "      <td>0.0</td>\n",
       "      <td>0.0</td>\n",
       "      <td>177.777</td>\n",
       "      <td>16.1979</td>\n",
       "      <td>177.420</td>\n",
       "    </tr>\n",
       "    <tr>\n",
       "      <th>4</th>\n",
       "      <td>0.0</td>\n",
       "      <td>0.0</td>\n",
       "      <td>181.560</td>\n",
       "      <td>14.3157</td>\n",
       "      <td>177.106</td>\n",
       "    </tr>\n",
       "    <tr>\n",
       "      <th>...</th>\n",
       "      <td>...</td>\n",
       "      <td>...</td>\n",
       "      <td>...</td>\n",
       "      <td>...</td>\n",
       "      <td>...</td>\n",
       "    </tr>\n",
       "    <tr>\n",
       "      <th>995</th>\n",
       "      <td>0.0</td>\n",
       "      <td>0.0</td>\n",
       "      <td>174.864</td>\n",
       "      <td>16.0423</td>\n",
       "      <td>187.452</td>\n",
       "    </tr>\n",
       "    <tr>\n",
       "      <th>996</th>\n",
       "      <td>0.0</td>\n",
       "      <td>0.0</td>\n",
       "      <td>172.970</td>\n",
       "      <td>12.6132</td>\n",
       "      <td>176.423</td>\n",
       "    </tr>\n",
       "    <tr>\n",
       "      <th>997</th>\n",
       "      <td>0.0</td>\n",
       "      <td>0.0</td>\n",
       "      <td>171.817</td>\n",
       "      <td>14.7975</td>\n",
       "      <td>172.871</td>\n",
       "    </tr>\n",
       "    <tr>\n",
       "      <th>998</th>\n",
       "      <td>0.0</td>\n",
       "      <td>0.0</td>\n",
       "      <td>175.046</td>\n",
       "      <td>15.4959</td>\n",
       "      <td>151.389</td>\n",
       "    </tr>\n",
       "    <tr>\n",
       "      <th>999</th>\n",
       "      <td>0.0</td>\n",
       "      <td>0.0</td>\n",
       "      <td>164.150</td>\n",
       "      <td>15.0786</td>\n",
       "      <td>167.807</td>\n",
       "    </tr>\n",
       "  </tbody>\n",
       "</table>\n",
       "<p>1000 rows × 5 columns</p>\n",
       "</div>"
      ],
      "text/plain": [
       "     lp__  accept_stat__       mu    sigma   height\n",
       "0     0.0            0.0  188.541  16.5544  167.479\n",
       "1     0.0            0.0  175.638  12.2212  178.646\n",
       "2     0.0            0.0  180.994  19.5307  199.955\n",
       "3     0.0            0.0  177.777  16.1979  177.420\n",
       "4     0.0            0.0  181.560  14.3157  177.106\n",
       "..    ...            ...      ...      ...      ...\n",
       "995   0.0            0.0  174.864  16.0423  187.452\n",
       "996   0.0            0.0  172.970  12.6132  176.423\n",
       "997   0.0            0.0  171.817  14.7975  172.871\n",
       "998   0.0            0.0  175.046  15.4959  151.389\n",
       "999   0.0            0.0  164.150  15.0786  167.807\n",
       "\n",
       "[1000 rows x 5 columns]"
      ]
     },
     "execution_count": 5,
     "metadata": {},
     "output_type": "execute_result"
    }
   ],
   "source": [
    "sim_draws = sim.draws_pd()\n",
    "sim.draws_pd() # Im not sure why these values are so low, but they become much more reasonable when we remove most of sampling params."
   ]
  },
  {
   "attachments": {},
   "cell_type": "markdown",
   "metadata": {},
   "source": [
    "4. Correct prior parameters to make them reasonably spreaded out. \n",
    "5. Check if observed data is possible to obtain using priors."
   ]
  },
  {
   "cell_type": "code",
   "execution_count": 6,
   "metadata": {},
   "outputs": [
    {
     "data": {
      "image/png": "[encoded data removed]",
      "text/plain": [
       "<Figure size 432x288 with 1 Axes>"
      ]
     },
     "metadata": {
      "needs_background": "light"
     },
     "output_type": "display_data"
    },
    {
     "data": {
      "image/png": "[encoded data removed]",
      "text/plain": [
       "<Figure size 432x288 with 1 Axes>"
      ]
     },
     "metadata": {
      "needs_background": "light"
     },
     "output_type": "display_data"
    },
    {
     "data": {
      "image/png": "[encoded data removed]",
      "text/plain": [
       "<Figure size 432x288 with 1 Axes>"
      ]
     },
     "metadata": {
      "needs_background": "light"
     },
     "output_type": "display_data"
    }
   ],
   "source": [
    "# 1. Plot histograms of mu, sigma and simulated height.\n",
    "\n",
    "plt.hist(sim_draws['mu'], bins=20) # Since we're using fixed params, nothing interesting will be displayed here.\n",
    "plt.title(\"Histogram of mu\")\n",
    "plt.xlabel(\"mu\")\n",
    "plt.ylabel(\"Frequency\")\n",
    "plt.show()\n",
    "\n",
    "plt.hist(sim_draws['sigma'], bins=20) # Since we're using fixed params, nothing interesting will be displayed here.\n",
    "plt.title(\"Histogram of sigma\")\n",
    "plt.xlabel(\"sigma\")\n",
    "plt.ylabel(\"Frequency\")\n",
    "plt.show()\n",
    "\n",
    "plt.hist(sim_draws['height'], bins=20)\n",
    "plt.title(\"Histogram of simulated height\")\n",
    "plt.xlabel(\"height\")\n",
    "plt.ylabel(\"Frequency\")\n",
    "plt.show()"
   ]
  },
  {
   "cell_type": "code",
   "execution_count": 7,
   "metadata": {},
   "outputs": [
    {
     "data": {
      "image/png": "[encoded data removed]",
      "text/plain": [
       "<Figure size 432x288 with 1 Axes>"
      ]
     },
     "metadata": {
      "needs_background": "light"
     },
     "output_type": "display_data"
    }
   ],
   "source": [
    "# 2. Plot a joint distribution of mu and sigma.\n",
    "\n",
    "plt.scatter(sim_draws['mu'], sim_draws['sigma'])\n",
    "plt.title(\"Joint distribution of mu and sigma\")\n",
    "plt.xlabel(\"mu\")\n",
    "plt.ylabel(\"sigma\")\n",
    "plt.show()"
   ]
  },
  {
   "cell_type": "code",
   "execution_count": 8,
   "metadata": {},
   "outputs": [
    {
     "name": "stdout",
     "output_type": "stream",
     "text": [
      "Prior ~ normal(175.191754, 14.963684010000001). Sample distribution ~ normal((176.25803900000002, 16.216559043727425))\n"
     ]
    }
   ],
   "source": [
    "# 3. Check if samples are consistent with priors.\n",
    "import numpy as np\n",
    "from scipy.stats import norm\n",
    "\n",
    "x = np.linspace(100, 240, 1000)\n",
    "x2 = np.linspace(0, 30, 1000)\n",
    "\n",
    "prior_mu = loc=sim_draws['mu'].mean()\n",
    "prior_sigma = loc=sim_draws['sigma'].mean()\n",
    "sample_mu = loc=sim_draws['height'].mean()\n",
    "sample_sigma = sim_draws['height'].std()\n",
    "\n",
    "print(f\"Prior ~ normal({prior_mu}, {prior_sigma}). Sample distribution ~ normal({sample_mu, sample_sigma})\")\n"
   ]
  },
  {
   "attachments": {},
   "cell_type": "markdown",
   "metadata": {},
   "source": [
    "## Task 2. Model fit and evaluation"
   ]
  },
  {
   "cell_type": "code",
   "execution_count": 9,
   "metadata": {},
   "outputs": [
    {
     "name": "stderr",
     "output_type": "stream",
     "text": [
      "INFO:cmdstanpy:found newer exe file, not recompiling\n"
     ]
    }
   ],
   "source": [
    "model_1_fit=CmdStanModel(stan_file='stan_files/height_1_fit.stan')"
   ]
  },
  {
   "cell_type": "code",
   "execution_count": 10,
   "metadata": {},
   "outputs": [
    {
     "name": "stderr",
     "output_type": "stream",
     "text": [
      "INFO:cmdstanpy:CmdStan start processing\n",
      "chain 1 |\u001b[33m          \u001b[0m| 00:00 Status\n",
      "\u001b[A\n",
      "\n",
      "chain 1 |\u001b[34m█████████ \u001b[0m| 00:00 Iteration: 1700 / 2000 [ 85%]  (Sampling)\n",
      "chain 1 |\u001b[34m██████████\u001b[0m| 00:00 Sampling completed                       \n",
      "chain 2 |\u001b[34m██████████\u001b[0m| 00:00 Sampling completed\n",
      "chain 3 |\u001b[34m██████████\u001b[0m| 00:00 Sampling completed                       \n",
      "\n",
      "\n",
      "chain 4 |\u001b[34m██████████\u001b[0m| 00:00 Sampling completed"
     ]
    },
    {
     "name": "stdout",
     "output_type": "stream",
     "text": [
      "                                                                                                                                                                                                                                                                                                                                "
     ]
    },
    {
     "name": "stderr",
     "output_type": "stream",
     "text": [
      "\n",
      "INFO:cmdstanpy:CmdStan done processing.\n"
     ]
    },
    {
     "name": "stdout",
     "output_type": "stream",
     "text": [
      "\n"
     ]
    }
   ],
   "source": [
    "fit=model_1_fit.sample(data=dict(N=len(d),\n",
    "                                   heights=d.height.values),\n",
    "                         seed=28052020)"
   ]
  },
  {
   "cell_type": "code",
   "execution_count": 11,
   "metadata": {},
   "outputs": [
    {
     "data": {
      "text/html": [
       "<div>\n",
       "<style scoped>\n",
       "    .dataframe tbody tr th:only-of-type {\n",
       "        vertical-align: middle;\n",
       "    }\n",
       "\n",
       "    .dataframe tbody tr th {\n",
       "        vertical-align: top;\n",
       "    }\n",
       "\n",
       "    .dataframe thead th {\n",
       "        text-align: right;\n",
       "    }\n",
       "</style>\n",
       "<table border=\"1\" class=\"dataframe\">\n",
       "  <thead>\n",
       "    <tr style=\"text-align: right;\">\n",
       "      <th></th>\n",
       "      <th>lp__</th>\n",
       "      <th>accept_stat__</th>\n",
       "      <th>stepsize__</th>\n",
       "      <th>treedepth__</th>\n",
       "      <th>n_leapfrog__</th>\n",
       "      <th>divergent__</th>\n",
       "      <th>energy__</th>\n",
       "      <th>mu</th>\n",
       "      <th>sigma</th>\n",
       "      <th>height</th>\n",
       "    </tr>\n",
       "  </thead>\n",
       "  <tbody>\n",
       "    <tr>\n",
       "      <th>0</th>\n",
       "      <td>-908.832</td>\n",
       "      <td>0.675340</td>\n",
       "      <td>0.889568</td>\n",
       "      <td>2.0</td>\n",
       "      <td>3.0</td>\n",
       "      <td>0.0</td>\n",
       "      <td>915.553</td>\n",
       "      <td>155.025</td>\n",
       "      <td>7.89278</td>\n",
       "      <td>157.977</td>\n",
       "    </tr>\n",
       "    <tr>\n",
       "      <th>1</th>\n",
       "      <td>-909.543</td>\n",
       "      <td>0.903799</td>\n",
       "      <td>0.889568</td>\n",
       "      <td>2.0</td>\n",
       "      <td>3.0</td>\n",
       "      <td>0.0</td>\n",
       "      <td>909.869</td>\n",
       "      <td>155.154</td>\n",
       "      <td>8.22353</td>\n",
       "      <td>154.880</td>\n",
       "    </tr>\n",
       "    <tr>\n",
       "      <th>2</th>\n",
       "      <td>-911.191</td>\n",
       "      <td>0.709979</td>\n",
       "      <td>0.889568</td>\n",
       "      <td>2.0</td>\n",
       "      <td>3.0</td>\n",
       "      <td>0.0</td>\n",
       "      <td>912.438</td>\n",
       "      <td>155.363</td>\n",
       "      <td>7.43941</td>\n",
       "      <td>160.444</td>\n",
       "    </tr>\n",
       "    <tr>\n",
       "      <th>3</th>\n",
       "      <td>-910.685</td>\n",
       "      <td>1.000000</td>\n",
       "      <td>0.889568</td>\n",
       "      <td>1.0</td>\n",
       "      <td>1.0</td>\n",
       "      <td>0.0</td>\n",
       "      <td>911.451</td>\n",
       "      <td>155.329</td>\n",
       "      <td>7.50323</td>\n",
       "      <td>148.312</td>\n",
       "    </tr>\n",
       "    <tr>\n",
       "      <th>4</th>\n",
       "      <td>-910.710</td>\n",
       "      <td>0.967872</td>\n",
       "      <td>0.889568</td>\n",
       "      <td>2.0</td>\n",
       "      <td>3.0</td>\n",
       "      <td>0.0</td>\n",
       "      <td>911.740</td>\n",
       "      <td>153.883</td>\n",
       "      <td>8.00773</td>\n",
       "      <td>163.090</td>\n",
       "    </tr>\n",
       "    <tr>\n",
       "      <th>...</th>\n",
       "      <td>...</td>\n",
       "      <td>...</td>\n",
       "      <td>...</td>\n",
       "      <td>...</td>\n",
       "      <td>...</td>\n",
       "      <td>...</td>\n",
       "      <td>...</td>\n",
       "      <td>...</td>\n",
       "      <td>...</td>\n",
       "      <td>...</td>\n",
       "    </tr>\n",
       "    <tr>\n",
       "      <th>3995</th>\n",
       "      <td>-908.906</td>\n",
       "      <td>1.000000</td>\n",
       "      <td>0.687296</td>\n",
       "      <td>2.0</td>\n",
       "      <td>3.0</td>\n",
       "      <td>0.0</td>\n",
       "      <td>910.158</td>\n",
       "      <td>155.052</td>\n",
       "      <td>7.99087</td>\n",
       "      <td>151.740</td>\n",
       "    </tr>\n",
       "    <tr>\n",
       "      <th>3996</th>\n",
       "      <td>-909.190</td>\n",
       "      <td>0.985517</td>\n",
       "      <td>0.687296</td>\n",
       "      <td>2.0</td>\n",
       "      <td>7.0</td>\n",
       "      <td>0.0</td>\n",
       "      <td>909.376</td>\n",
       "      <td>154.889</td>\n",
       "      <td>8.22998</td>\n",
       "      <td>142.302</td>\n",
       "    </tr>\n",
       "    <tr>\n",
       "      <th>3997</th>\n",
       "      <td>-910.362</td>\n",
       "      <td>0.928027</td>\n",
       "      <td>0.687296</td>\n",
       "      <td>2.0</td>\n",
       "      <td>3.0</td>\n",
       "      <td>0.0</td>\n",
       "      <td>910.472</td>\n",
       "      <td>155.142</td>\n",
       "      <td>8.44015</td>\n",
       "      <td>164.533</td>\n",
       "    </tr>\n",
       "    <tr>\n",
       "      <th>3998</th>\n",
       "      <td>-910.466</td>\n",
       "      <td>0.947806</td>\n",
       "      <td>0.687296</td>\n",
       "      <td>3.0</td>\n",
       "      <td>7.0</td>\n",
       "      <td>0.0</td>\n",
       "      <td>912.328</td>\n",
       "      <td>154.108</td>\n",
       "      <td>7.56298</td>\n",
       "      <td>168.597</td>\n",
       "    </tr>\n",
       "    <tr>\n",
       "      <th>3999</th>\n",
       "      <td>-908.938</td>\n",
       "      <td>0.981560</td>\n",
       "      <td>0.687296</td>\n",
       "      <td>2.0</td>\n",
       "      <td>3.0</td>\n",
       "      <td>0.0</td>\n",
       "      <td>910.949</td>\n",
       "      <td>154.410</td>\n",
       "      <td>7.83493</td>\n",
       "      <td>149.936</td>\n",
       "    </tr>\n",
       "  </tbody>\n",
       "</table>\n",
       "<p>4000 rows × 10 columns</p>\n",
       "</div>"
      ],
      "text/plain": [
       "         lp__  accept_stat__  stepsize__  treedepth__  n_leapfrog__  \\\n",
       "0    -908.832       0.675340    0.889568          2.0           3.0   \n",
       "1    -909.543       0.903799    0.889568          2.0           3.0   \n",
       "2    -911.191       0.709979    0.889568          2.0           3.0   \n",
       "3    -910.685       1.000000    0.889568          1.0           1.0   \n",
       "4    -910.710       0.967872    0.889568          2.0           3.0   \n",
       "...       ...            ...         ...          ...           ...   \n",
       "3995 -908.906       1.000000    0.687296          2.0           3.0   \n",
       "3996 -909.190       0.985517    0.687296          2.0           7.0   \n",
       "3997 -910.362       0.928027    0.687296          2.0           3.0   \n",
       "3998 -910.466       0.947806    0.687296          3.0           7.0   \n",
       "3999 -908.938       0.981560    0.687296          2.0           3.0   \n",
       "\n",
       "      divergent__  energy__       mu    sigma   height  \n",
       "0             0.0   915.553  155.025  7.89278  157.977  \n",
       "1             0.0   909.869  155.154  8.22353  154.880  \n",
       "2             0.0   912.438  155.363  7.43941  160.444  \n",
       "3             0.0   911.451  155.329  7.50323  148.312  \n",
       "4             0.0   911.740  153.883  8.00773  163.090  \n",
       "...           ...       ...      ...      ...      ...  \n",
       "3995          0.0   910.158  155.052  7.99087  151.740  \n",
       "3996          0.0   909.376  154.889  8.22998  142.302  \n",
       "3997          0.0   910.472  155.142  8.44015  164.533  \n",
       "3998          0.0   912.328  154.108  7.56298  168.597  \n",
       "3999          0.0   910.949  154.410  7.83493  149.936  \n",
       "\n",
       "[4000 rows x 10 columns]"
      ]
     },
     "execution_count": 11,
     "metadata": {},
     "output_type": "execute_result"
    }
   ],
   "source": [
    "fit_draws = fit.draws_pd()\n",
    "fit.draws_pd()"
   ]
  },
  {
   "attachments": {},
   "cell_type": "markdown",
   "metadata": {},
   "source": [
    "\n",
    "1. Plot a joint distribution of fitted mu and sigma.\n",
    "2. Plot histograms of data and simulated heights and evaluate the quality of model.\n"
   ]
  },
  {
   "cell_type": "code",
   "execution_count": 12,
   "metadata": {},
   "outputs": [
    {
     "data": {
      "image/png": "[encoded data removed]",
      "text/plain": [
       "<Figure size 432x288 with 1 Axes>"
      ]
     },
     "metadata": {
      "needs_background": "light"
     },
     "output_type": "display_data"
    },
    {
     "data": {
      "image/png": "[encoded data removed]",
      "text/plain": [
       "<Figure size 432x288 with 1 Axes>"
      ]
     },
     "metadata": {
      "needs_background": "light"
     },
     "output_type": "display_data"
    }
   ],
   "source": [
    "\n",
    "import seaborn as sns\n",
    "\n",
    "# Plot a joint distribution of fitted mu and sigma\n",
    "plt.scatter(fit_draws[\"mu\"], fit_draws[\"sigma\"])\n",
    "plt.show()\n",
    "# Plot histograms of data and simulated heights\n",
    "simulated_heights = fit_draws[\"height\"]\n",
    "sns.histplot(d.height.values, bins=20, stat=\"density\", alpha=.5, label=\"Data\")\n",
    "sns.histplot(simulated_heights, bins=20, stat=\"density\", alpha=.5, label=\"Simulated heights\")\n",
    "plt.legend()\n",
    "plt.show()"
   ]
  },
  {
   "attachments": {},
   "cell_type": "markdown",
   "metadata": {},
   "source": [
    "## Task 3. Adding predictor to the model - weight\n",
    "\n",
    "Create column ```c_weight``` in the dataframe containing weights substrated by their mean.\n"
   ]
  },
  {
   "cell_type": "code",
   "execution_count": 13,
   "metadata": {},
   "outputs": [
    {
     "name": "stdout",
     "output_type": "stream",
     "text": [
      "      height     weight   age  male\n",
      "0    151.765  47.825606  63.0     1\n",
      "1    139.700  36.485807  63.0     0\n",
      "2    136.525  31.864838  65.0     0\n",
      "3    156.845  53.041914  41.0     1\n",
      "4    145.415  41.276872  51.0     0\n",
      "..       ...        ...   ...   ...\n",
      "534  162.560  47.031821  27.0     0\n",
      "537  142.875  34.246196  31.0     0\n",
      "540  162.560  52.163080  31.0     1\n",
      "541  156.210  54.062497  21.0     0\n",
      "543  158.750  52.531624  68.0     1\n",
      "\n",
      "[352 rows x 4 columns]\n"
     ]
    }
   ],
   "source": [
    "print(d)\n",
    "\n",
    "d['c_weight'] = d['height'] - d['height'].mean()\n",
    "data_sim={'N':50, 'weight': d['weight']}"
   ]
  },
  {
   "cell_type": "code",
   "execution_count": 14,
   "metadata": {},
   "outputs": [
    {
     "data": {
      "text/html": [
       "<div>\n",
       "<style scoped>\n",
       "    .dataframe tbody tr th:only-of-type {\n",
       "        vertical-align: middle;\n",
       "    }\n",
       "\n",
       "    .dataframe tbody tr th {\n",
       "        vertical-align: top;\n",
       "    }\n",
       "\n",
       "    .dataframe thead th {\n",
       "        text-align: right;\n",
       "    }\n",
       "</style>\n",
       "<table border=\"1\" class=\"dataframe\">\n",
       "  <thead>\n",
       "    <tr style=\"text-align: right;\">\n",
       "      <th></th>\n",
       "      <th>height</th>\n",
       "      <th>weight</th>\n",
       "      <th>age</th>\n",
       "      <th>male</th>\n",
       "      <th>c_weight</th>\n",
       "    </tr>\n",
       "  </thead>\n",
       "  <tbody>\n",
       "    <tr>\n",
       "      <th>0</th>\n",
       "      <td>151.765</td>\n",
       "      <td>47.825606</td>\n",
       "      <td>63.0</td>\n",
       "      <td>1</td>\n",
       "      <td>-2.832093</td>\n",
       "    </tr>\n",
       "    <tr>\n",
       "      <th>1</th>\n",
       "      <td>139.700</td>\n",
       "      <td>36.485807</td>\n",
       "      <td>63.0</td>\n",
       "      <td>0</td>\n",
       "      <td>-14.897093</td>\n",
       "    </tr>\n",
       "    <tr>\n",
       "      <th>2</th>\n",
       "      <td>136.525</td>\n",
       "      <td>31.864838</td>\n",
       "      <td>65.0</td>\n",
       "      <td>0</td>\n",
       "      <td>-18.072093</td>\n",
       "    </tr>\n",
       "    <tr>\n",
       "      <th>3</th>\n",
       "      <td>156.845</td>\n",
       "      <td>53.041914</td>\n",
       "      <td>41.0</td>\n",
       "      <td>1</td>\n",
       "      <td>2.247907</td>\n",
       "    </tr>\n",
       "    <tr>\n",
       "      <th>4</th>\n",
       "      <td>145.415</td>\n",
       "      <td>41.276872</td>\n",
       "      <td>51.0</td>\n",
       "      <td>0</td>\n",
       "      <td>-9.182093</td>\n",
       "    </tr>\n",
       "    <tr>\n",
       "      <th>...</th>\n",
       "      <td>...</td>\n",
       "      <td>...</td>\n",
       "      <td>...</td>\n",
       "      <td>...</td>\n",
       "      <td>...</td>\n",
       "    </tr>\n",
       "    <tr>\n",
       "      <th>534</th>\n",
       "      <td>162.560</td>\n",
       "      <td>47.031821</td>\n",
       "      <td>27.0</td>\n",
       "      <td>0</td>\n",
       "      <td>7.962907</td>\n",
       "    </tr>\n",
       "    <tr>\n",
       "      <th>537</th>\n",
       "      <td>142.875</td>\n",
       "      <td>34.246196</td>\n",
       "      <td>31.0</td>\n",
       "      <td>0</td>\n",
       "      <td>-11.722093</td>\n",
       "    </tr>\n",
       "    <tr>\n",
       "      <th>540</th>\n",
       "      <td>162.560</td>\n",
       "      <td>52.163080</td>\n",
       "      <td>31.0</td>\n",
       "      <td>1</td>\n",
       "      <td>7.962907</td>\n",
       "    </tr>\n",
       "    <tr>\n",
       "      <th>541</th>\n",
       "      <td>156.210</td>\n",
       "      <td>54.062497</td>\n",
       "      <td>21.0</td>\n",
       "      <td>0</td>\n",
       "      <td>1.612907</td>\n",
       "    </tr>\n",
       "    <tr>\n",
       "      <th>543</th>\n",
       "      <td>158.750</td>\n",
       "      <td>52.531624</td>\n",
       "      <td>68.0</td>\n",
       "      <td>1</td>\n",
       "      <td>4.152907</td>\n",
       "    </tr>\n",
       "  </tbody>\n",
       "</table>\n",
       "<p>352 rows × 5 columns</p>\n",
       "</div>"
      ],
      "text/plain": [
       "      height     weight   age  male   c_weight\n",
       "0    151.765  47.825606  63.0     1  -2.832093\n",
       "1    139.700  36.485807  63.0     0 -14.897093\n",
       "2    136.525  31.864838  65.0     0 -18.072093\n",
       "3    156.845  53.041914  41.0     1   2.247907\n",
       "4    145.415  41.276872  51.0     0  -9.182093\n",
       "..       ...        ...   ...   ...        ...\n",
       "534  162.560  47.031821  27.0     0   7.962907\n",
       "537  142.875  34.246196  31.0     0 -11.722093\n",
       "540  162.560  52.163080  31.0     1   7.962907\n",
       "541  156.210  54.062497  21.0     0   1.612907\n",
       "543  158.750  52.531624  68.0     1   4.152907\n",
       "\n",
       "[352 rows x 5 columns]"
      ]
     },
     "execution_count": 14,
     "metadata": {},
     "output_type": "execute_result"
    }
   ],
   "source": [
    "d"
   ]
  },
  {
   "attachments": {},
   "cell_type": "markdown",
   "metadata": {},
   "source": [
    "## Task 4. Prior predictive checks\n",
    " "
   ]
  },
  {
   "cell_type": "code",
   "execution_count": 15,
   "metadata": {},
   "outputs": [
    {
     "name": "stderr",
     "output_type": "stream",
     "text": [
      "INFO:cmdstanpy:found newer exe file, not recompiling\n"
     ]
    }
   ],
   "source": [
    "model_ppc=CmdStanModel(stan_file='stan_files/height_2a_ppc.stan')"
   ]
  },
  {
   "cell_type": "code",
   "execution_count": 16,
   "metadata": {},
   "outputs": [
    {
     "name": "stderr",
     "output_type": "stream",
     "text": [
      "INFO:cmdstanpy:CmdStan start processing\n",
      "chain 1 |\u001b[33m          \u001b[0m| 00:00 StatusERROR:cmdstanpy:Chain [1] error: error during processing Operation not permitted\n",
      "chain 1 |\u001b[33m██████████\u001b[0m| 00:00 Sampling completed"
     ]
    },
    {
     "name": "stdout",
     "output_type": "stream",
     "text": [
      "                                                                                "
     ]
    },
    {
     "name": "stderr",
     "output_type": "stream",
     "text": [
      "\n",
      "INFO:cmdstanpy:CmdStan done processing.\n"
     ]
    },
    {
     "name": "stdout",
     "output_type": "stream",
     "text": [
      "\n"
     ]
    },
    {
     "ename": "RuntimeError",
     "evalue": "Error during sampling:\nException: mismatch in dimension declared and found in context; processing stage=data initialization; variable name=weight; position=0; dims declared=(50); dims found=(352) (in '/root/docs/data_analytics_2023_hszwast/lab_4/stan_files/height_2a_ppc.stan', line 3, column 2 to column 17)Command and output files:\nRunSet: chains=1, chain_ids=[1], num_processes=1\n cmd (chain 1):\n\t['/root/docs/data_analytics_2023_hszwast/lab_4/stan_files/height_2a_ppc', 'id=1', 'random', 'seed=40322', 'data', 'file=/tmp/tmp6kqdd909/wdqxd7u1.json', 'output', 'file=/tmp/tmp6kqdd909/height_2a_ppc-20230420090509.csv', 'method=sample', 'num_samples=1000', 'algorithm=hmc', 'adapt', 'engaged=1']\n retcodes=[1]\n per-chain output files (showing chain 1 only):\n csv_file:\n\t/tmp/tmp6kqdd909/height_2a_ppc-20230420090509.csv\n console_msgs (if any):\n\t/tmp/tmp6kqdd909/height_2a_ppc-20230420090509_0-stdout.txt",
     "output_type": "error",
     "traceback": [
      "\u001b[0;31m---------------------------------------------------------------------------\u001b[0m",
      "\u001b[0;31mRuntimeError\u001b[0m                              Traceback (most recent call last)",
      "\u001b[1;32m/root/docs/data_analytics_2023_hszwast/lab_4/lab4.ipynb Cell 25\u001b[0m in \u001b[0;36m<cell line: 2>\u001b[0;34m()\u001b[0m\n\u001b[1;32m      <a href='vscode-notebook-cell://attached-container%2B7b22636f6e7461696e65724e616d65223a222f646174615f616e616c79746963735f32303233227d/root/docs/data_analytics_2023_hszwast/lab_4/lab4.ipynb#X33sdnNjb2RlLXJlbW90ZQ%3D%3D?line=0'>1</a>\u001b[0m R \u001b[39m=\u001b[39m \u001b[39m1000\u001b[39m\n\u001b[0;32m----> <a href='vscode-notebook-cell://attached-container%2B7b22636f6e7461696e65724e616d65223a222f646174615f616e616c79746963735f32303233227d/root/docs/data_analytics_2023_hszwast/lab_4/lab4.ipynb#X33sdnNjb2RlLXJlbW90ZQ%3D%3D?line=1'>2</a>\u001b[0m sim\u001b[39m=\u001b[39mmodel_ppc\u001b[39m.\u001b[39;49msample(data\u001b[39m=\u001b[39;49mdata_sim, \n\u001b[1;32m      <a href='vscode-notebook-cell://attached-container%2B7b22636f6e7461696e65724e616d65223a222f646174615f616e616c79746963735f32303233227d/root/docs/data_analytics_2023_hszwast/lab_4/lab4.ipynb#X33sdnNjb2RlLXJlbW90ZQ%3D%3D?line=2'>3</a>\u001b[0m                      iter_sampling\u001b[39m=\u001b[39;49mR, \n\u001b[1;32m      <a href='vscode-notebook-cell://attached-container%2B7b22636f6e7461696e65724e616d65223a222f646174615f616e616c79746963735f32303233227d/root/docs/data_analytics_2023_hszwast/lab_4/lab4.ipynb#X33sdnNjb2RlLXJlbW90ZQ%3D%3D?line=3'>4</a>\u001b[0m                      chains\u001b[39m=\u001b[39;49m\u001b[39m1\u001b[39;49m)\n\u001b[1;32m      <a href='vscode-notebook-cell://attached-container%2B7b22636f6e7461696e65724e616d65223a222f646174615f616e616c79746963735f32303233227d/root/docs/data_analytics_2023_hszwast/lab_4/lab4.ipynb#X33sdnNjb2RlLXJlbW90ZQ%3D%3D?line=4'>5</a>\u001b[0m sim\u001b[39m.\u001b[39mdraws_pd()\n",
      "File \u001b[0;32m/usr/local/lib/python3.9/site-packages/cmdstanpy/model.py:1089\u001b[0m, in \u001b[0;36mCmdStanModel.sample\u001b[0;34m(self, data, chains, parallel_chains, threads_per_chain, seed, chain_ids, inits, iter_warmup, iter_sampling, save_warmup, thin, max_treedepth, metric, step_size, adapt_engaged, adapt_delta, adapt_init_phase, adapt_metric_window, adapt_step_size, fixed_param, output_dir, sig_figs, save_latent_dynamics, save_profile, show_progress, show_console, refresh, time_fmt, force_one_process_per_chain)\u001b[0m\n\u001b[1;32m   1085\u001b[0m         msg \u001b[39m=\u001b[39m \u001b[39m'\u001b[39m\u001b[39mError during sampling:\u001b[39m\u001b[39m\\n\u001b[39;00m\u001b[39m{}\u001b[39;00m\u001b[39m'\u001b[39m\u001b[39m.\u001b[39mformat(runset\u001b[39m.\u001b[39mget_err_msgs())\n\u001b[1;32m   1086\u001b[0m         msg \u001b[39m=\u001b[39m \u001b[39m'\u001b[39m\u001b[39m{}\u001b[39;00m\u001b[39mCommand and output files:\u001b[39m\u001b[39m\\n\u001b[39;00m\u001b[39m{}\u001b[39;00m\u001b[39m'\u001b[39m\u001b[39m.\u001b[39mformat(\n\u001b[1;32m   1087\u001b[0m             msg, runset\u001b[39m.\u001b[39m\u001b[39m__repr__\u001b[39m()\n\u001b[1;32m   1088\u001b[0m         )\n\u001b[0;32m-> 1089\u001b[0m         \u001b[39mraise\u001b[39;00m \u001b[39mRuntimeError\u001b[39;00m(msg)\n\u001b[1;32m   1091\u001b[0m     mcmc \u001b[39m=\u001b[39m CmdStanMCMC(runset)\n\u001b[1;32m   1092\u001b[0m \u001b[39mreturn\u001b[39;00m mcmc\n",
      "\u001b[0;31mRuntimeError\u001b[0m: Error during sampling:\nException: mismatch in dimension declared and found in context; processing stage=data initialization; variable name=weight; position=0; dims declared=(50); dims found=(352) (in '/root/docs/data_analytics_2023_hszwast/lab_4/stan_files/height_2a_ppc.stan', line 3, column 2 to column 17)Command and output files:\nRunSet: chains=1, chain_ids=[1], num_processes=1\n cmd (chain 1):\n\t['/root/docs/data_analytics_2023_hszwast/lab_4/stan_files/height_2a_ppc', 'id=1', 'random', 'seed=40322', 'data', 'file=/tmp/tmp6kqdd909/wdqxd7u1.json', 'output', 'file=/tmp/tmp6kqdd909/height_2a_ppc-20230420090509.csv', 'method=sample', 'num_samples=1000', 'algorithm=hmc', 'adapt', 'engaged=1']\n retcodes=[1]\n per-chain output files (showing chain 1 only):\n csv_file:\n\t/tmp/tmp6kqdd909/height_2a_ppc-20230420090509.csv\n console_msgs (if any):\n\t/tmp/tmp6kqdd909/height_2a_ppc-20230420090509_0-stdout.txt"
     ]
    }
   ],
   "source": [
    "R = 1000\n",
    "sim=model_ppc.sample(data=data_sim, \n",
    "                     iter_sampling=R, \n",
    "                     chains=1)\n",
    "sim.draws_pd()"
   ]
  },
  {
   "attachments": {},
   "cell_type": "markdown",
   "metadata": {},
   "source": [
    "Plot lines for each sampled slope beta and intercept alpha, verify if possible predicted heights are consistent with minimum (0) and maximum (check Wikipedia) heights observed in nature."
   ]
  },
  {
   "cell_type": "code",
   "execution_count": null,
   "metadata": {},
   "outputs": [
    {
     "data": {
      "image/png": "[encoded data removed]",
      "text/plain": [
       "<Figure size 432x288 with 1 Axes>"
      ]
     },
     "metadata": {
      "needs_background": "light"
     },
     "output_type": "display_data"
    }
   ],
   "source": [
    "def plot_lines(draws_df, x, n_params, **kwargs):\n",
    "    for i in range(len(draws_df)):\n",
    "        y_ = [val for _, val in draws_df.iloc[i][n_params:].items()]\n",
    "        plt.plot(x, y_, **kwargs)\n",
    "    plt.show()\n",
    "\n",
    "plot_lines(sim.draws_pd(), data_sim['weight'], n_params=10, alpha=.1, color='blue')\n",
    "\n",
    "## These height values can be observed in natural world\n"
   ]
  },
  {
   "attachments": {},
   "cell_type": "markdown",
   "metadata": {},
   "source": [
    "## Task 5. Modifying prior\n",
    "\n",
    "If prior for beta admits negative values, then it makes no sense. Lets change prior to lognormal distribution.\n"
   ]
  },
  {
   "cell_type": "code",
   "execution_count": null,
   "metadata": {},
   "outputs": [
    {
     "name": "stderr",
     "output_type": "stream",
     "text": [
      "INFO:cmdstanpy:compiling stan file /root/docs/data_analytics_2023_hszwast/lab_4/stan_files/height_2b_ppc.stan to exe file /root/docs/data_analytics_2023_hszwast/lab_4/stan_files/height_2b_ppc\n",
      "INFO:cmdstanpy:compiled model executable: /root/docs/data_analytics_2023_hszwast/lab_4/stan_files/height_2b_ppc\n",
      "WARNING:cmdstanpy:Stan compiler has produced 2 warnings:\n",
      "WARNING:cmdstanpy:\n",
      "--- Translating Stan model to C++ code ---\n",
      "bin/stanc  --o=/root/docs/data_analytics_2023_hszwast/lab_4/stan_files/height_2b_ppc.hpp /root/docs/data_analytics_2023_hszwast/lab_4/stan_files/height_2b_ppc.stan\n",
      "Warning in '/root/docs/data_analytics_2023_hszwast/lab_4/stan_files/height_2b_ppc.stan', line 3, column 2: Declaration\n",
      "    of arrays by placing brackets after a variable name is deprecated and\n",
      "    will be removed in Stan 2.32.0. Instead use the array keyword before the\n",
      "    type. This can be changed automatically using the auto-format flag to\n",
      "    stanc\n",
      "Warning in '/root/docs/data_analytics_2023_hszwast/lab_4/stan_files/height_2b_ppc.stan', line 19, column 2: Declaration\n",
      "    of arrays by placing brackets after a variable name is deprecated and\n",
      "    will be removed in Stan 2.32.0. Instead use the array keyword before the\n",
      "    type. This can be changed automatically using the auto-format flag to\n",
      "    stanc\n",
      "\n",
      "--- Compiling, linking C++ code ---\n",
      "g++ -std=c++1y -pthread -D_REENTRANT -Wno-sign-compare -Wno-ignored-attributes      -I stan/lib/stan_math/lib/tbb_2020.3/include    -O3 -I src -I stan/src -I lib/rapidjson_1.1.0/ -I lib/CLI11-1.9.1/ -I stan/lib/stan_math/ -I stan/lib/stan_math/lib/eigen_3.3.9 -I stan/lib/stan_math/lib/boost_1.75.0 -I stan/lib/stan_math/lib/sundials_6.0.0/include -I stan/lib/stan_math/lib/sundials_6.0.0/src/sundials    -DBOOST_DISABLE_ASSERTS          -c -Wno-ignored-attributes   -x c++ -o /root/docs/data_analytics_2023_hszwast/lab_4/stan_files/height_2b_ppc.o /root/docs/data_analytics_2023_hszwast/lab_4/stan_files/height_2b_ppc.hpp\n",
      "g++ -std=c++1y -pthread -D_REENTRANT -Wno-sign-compare -Wno-ignored-attributes      -I stan/lib/stan_math/lib/tbb_2020.3/include    -O3 -I src -I stan/src -I lib/rapidjson_1.1.0/ -I lib/CLI11-1.9.1/ -I stan/lib/stan_math/ -I stan/lib/stan_math/lib/eigen_3.3.9 -I stan/lib/stan_math/lib/boost_1.75.0 -I stan/lib/stan_math/lib/sundials_6.0.0/include -I stan/lib/stan_math/lib/sundials_6.0.0/src/sundials    -DBOOST_DISABLE_ASSERTS                -Wl,-L,\"/opt/cmdstan-2.29.0/stan/lib/stan_math/lib/tbb\" -Wl,-rpath,\"/opt/cmdstan-2.29.0/stan/lib/stan_math/lib/tbb\"      /root/docs/data_analytics_2023_hszwast/lab_4/stan_files/height_2b_ppc.o src/cmdstan/main.o        -Wl,-L,\"/opt/cmdstan-2.29.0/stan/lib/stan_math/lib/tbb\" -Wl,-rpath,\"/opt/cmdstan-2.29.0/stan/lib/stan_math/lib/tbb\"   stan/lib/stan_math/lib/sundials_6.0.0/lib/libsundials_nvecserial.a stan/lib/stan_math/lib/sundials_6.0.0/lib/libsundials_cvodes.a stan/lib/stan_math/lib/sundials_6.0.0/lib/libsundials_idas.a stan/lib/stan_math/lib/sundials_6.0.0/lib/libsundials_kinsol.a  stan/lib/stan_math/lib/tbb/libtbb.so.2 -o /root/docs/data_analytics_2023_hszwast/lab_4/stan_files/height_2b_ppc\n",
      "rm -f /root/docs/data_analytics_2023_hszwast/lab_4/stan_files/height_2b_ppc.o\n",
      "\n"
     ]
    }
   ],
   "source": [
    "model_ppc=CmdStanModel(stan_file='stan_files/height_2b_ppc.stan')"
   ]
  },
  {
   "cell_type": "code",
   "execution_count": null,
   "metadata": {},
   "outputs": [
    {
     "name": "stderr",
     "output_type": "stream",
     "text": [
      "INFO:cmdstanpy:CmdStan start processing\n",
      "chain 1 |\u001b[34m██████████\u001b[0m| 00:00 Sampling completed                       "
     ]
    },
    {
     "name": "stdout",
     "output_type": "stream",
     "text": [
      "                                                                                "
     ]
    },
    {
     "name": "stderr",
     "output_type": "stream",
     "text": [
      "\n",
      "INFO:cmdstanpy:CmdStan done processing.\n"
     ]
    },
    {
     "name": "stdout",
     "output_type": "stream",
     "text": [
      "\n"
     ]
    }
   ],
   "source": [
    "sim=model_ppc.sample(data=data_sim, \n",
    "                     iter_sampling=R, \n",
    "                     chains=1)"
   ]
  },
  {
   "cell_type": "code",
   "execution_count": null,
   "metadata": {},
   "outputs": [
    {
     "data": {
      "text/html": [
       "<div>\n",
       "<style scoped>\n",
       "    .dataframe tbody tr th:only-of-type {\n",
       "        vertical-align: middle;\n",
       "    }\n",
       "\n",
       "    .dataframe tbody tr th {\n",
       "        vertical-align: top;\n",
       "    }\n",
       "\n",
       "    .dataframe thead th {\n",
       "        text-align: right;\n",
       "    }\n",
       "</style>\n",
       "<table border=\"1\" class=\"dataframe\">\n",
       "  <thead>\n",
       "    <tr style=\"text-align: right;\">\n",
       "      <th></th>\n",
       "      <th>lp__</th>\n",
       "      <th>accept_stat__</th>\n",
       "      <th>stepsize__</th>\n",
       "      <th>treedepth__</th>\n",
       "      <th>n_leapfrog__</th>\n",
       "      <th>divergent__</th>\n",
       "      <th>energy__</th>\n",
       "      <th>alpha</th>\n",
       "      <th>beta</th>\n",
       "      <th>sigma</th>\n",
       "      <th>...</th>\n",
       "      <th>height[41]</th>\n",
       "      <th>height[42]</th>\n",
       "      <th>height[43]</th>\n",
       "      <th>height[44]</th>\n",
       "      <th>height[45]</th>\n",
       "      <th>height[46]</th>\n",
       "      <th>height[47]</th>\n",
       "      <th>height[48]</th>\n",
       "      <th>height[49]</th>\n",
       "      <th>height[50]</th>\n",
       "    </tr>\n",
       "  </thead>\n",
       "  <tbody>\n",
       "    <tr>\n",
       "      <th>0</th>\n",
       "      <td>-2.91854</td>\n",
       "      <td>0.491197</td>\n",
       "      <td>0.057655</td>\n",
       "      <td>5.0</td>\n",
       "      <td>47.0</td>\n",
       "      <td>0.0</td>\n",
       "      <td>4.84379</td>\n",
       "      <td>167.819</td>\n",
       "      <td>1.347080</td>\n",
       "      <td>1.373400</td>\n",
       "      <td>...</td>\n",
       "      <td>190.451</td>\n",
       "      <td>188.614</td>\n",
       "      <td>192.942</td>\n",
       "      <td>195.364</td>\n",
       "      <td>195.717</td>\n",
       "      <td>198.110</td>\n",
       "      <td>200.027</td>\n",
       "      <td>202.785</td>\n",
       "      <td>199.105</td>\n",
       "      <td>202.738</td>\n",
       "    </tr>\n",
       "    <tr>\n",
       "      <th>1</th>\n",
       "      <td>-2.88690</td>\n",
       "      <td>0.972222</td>\n",
       "      <td>0.057655</td>\n",
       "      <td>5.0</td>\n",
       "      <td>36.0</td>\n",
       "      <td>1.0</td>\n",
       "      <td>4.41304</td>\n",
       "      <td>173.453</td>\n",
       "      <td>2.522500</td>\n",
       "      <td>0.753713</td>\n",
       "      <td>...</td>\n",
       "      <td>215.992</td>\n",
       "      <td>216.731</td>\n",
       "      <td>218.987</td>\n",
       "      <td>221.683</td>\n",
       "      <td>224.701</td>\n",
       "      <td>226.200</td>\n",
       "      <td>229.123</td>\n",
       "      <td>229.695</td>\n",
       "      <td>233.308</td>\n",
       "      <td>234.611</td>\n",
       "    </tr>\n",
       "    <tr>\n",
       "      <th>2</th>\n",
       "      <td>-2.68445</td>\n",
       "      <td>0.999709</td>\n",
       "      <td>0.057655</td>\n",
       "      <td>4.0</td>\n",
       "      <td>31.0</td>\n",
       "      <td>0.0</td>\n",
       "      <td>3.90549</td>\n",
       "      <td>174.727</td>\n",
       "      <td>2.396340</td>\n",
       "      <td>1.091840</td>\n",
       "      <td>...</td>\n",
       "      <td>216.103</td>\n",
       "      <td>215.271</td>\n",
       "      <td>218.163</td>\n",
       "      <td>220.183</td>\n",
       "      <td>221.356</td>\n",
       "      <td>227.692</td>\n",
       "      <td>227.001</td>\n",
       "      <td>226.120</td>\n",
       "      <td>230.508</td>\n",
       "      <td>233.036</td>\n",
       "    </tr>\n",
       "    <tr>\n",
       "      <th>3</th>\n",
       "      <td>-2.70929</td>\n",
       "      <td>0.961500</td>\n",
       "      <td>0.057655</td>\n",
       "      <td>4.0</td>\n",
       "      <td>23.0</td>\n",
       "      <td>0.0</td>\n",
       "      <td>3.07286</td>\n",
       "      <td>175.568</td>\n",
       "      <td>2.430700</td>\n",
       "      <td>1.035940</td>\n",
       "      <td>...</td>\n",
       "      <td>217.026</td>\n",
       "      <td>216.870</td>\n",
       "      <td>220.512</td>\n",
       "      <td>223.424</td>\n",
       "      <td>224.307</td>\n",
       "      <td>226.338</td>\n",
       "      <td>229.407</td>\n",
       "      <td>232.477</td>\n",
       "      <td>233.434</td>\n",
       "      <td>233.863</td>\n",
       "    </tr>\n",
       "    <tr>\n",
       "      <th>4</th>\n",
       "      <td>-3.35019</td>\n",
       "      <td>0.966877</td>\n",
       "      <td>0.057655</td>\n",
       "      <td>4.0</td>\n",
       "      <td>29.0</td>\n",
       "      <td>0.0</td>\n",
       "      <td>3.56991</td>\n",
       "      <td>174.468</td>\n",
       "      <td>2.951160</td>\n",
       "      <td>1.544240</td>\n",
       "      <td>...</td>\n",
       "      <td>221.674</td>\n",
       "      <td>227.342</td>\n",
       "      <td>228.574</td>\n",
       "      <td>229.806</td>\n",
       "      <td>233.587</td>\n",
       "      <td>233.940</td>\n",
       "      <td>240.993</td>\n",
       "      <td>240.038</td>\n",
       "      <td>242.808</td>\n",
       "      <td>246.358</td>\n",
       "    </tr>\n",
       "    <tr>\n",
       "      <th>...</th>\n",
       "      <td>...</td>\n",
       "      <td>...</td>\n",
       "      <td>...</td>\n",
       "      <td>...</td>\n",
       "      <td>...</td>\n",
       "      <td>...</td>\n",
       "      <td>...</td>\n",
       "      <td>...</td>\n",
       "      <td>...</td>\n",
       "      <td>...</td>\n",
       "      <td>...</td>\n",
       "      <td>...</td>\n",
       "      <td>...</td>\n",
       "      <td>...</td>\n",
       "      <td>...</td>\n",
       "      <td>...</td>\n",
       "      <td>...</td>\n",
       "      <td>...</td>\n",
       "      <td>...</td>\n",
       "      <td>...</td>\n",
       "      <td>...</td>\n",
       "    </tr>\n",
       "    <tr>\n",
       "      <th>995</th>\n",
       "      <td>-1.60406</td>\n",
       "      <td>0.749786</td>\n",
       "      <td>0.057655</td>\n",
       "      <td>2.0</td>\n",
       "      <td>4.0</td>\n",
       "      <td>1.0</td>\n",
       "      <td>5.10690</td>\n",
       "      <td>173.963</td>\n",
       "      <td>0.308136</td>\n",
       "      <td>0.335692</td>\n",
       "      <td>...</td>\n",
       "      <td>179.002</td>\n",
       "      <td>179.557</td>\n",
       "      <td>179.837</td>\n",
       "      <td>179.123</td>\n",
       "      <td>180.128</td>\n",
       "      <td>180.195</td>\n",
       "      <td>180.588</td>\n",
       "      <td>180.704</td>\n",
       "      <td>181.438</td>\n",
       "      <td>181.537</td>\n",
       "    </tr>\n",
       "    <tr>\n",
       "      <th>996</th>\n",
       "      <td>-2.13359</td>\n",
       "      <td>0.999849</td>\n",
       "      <td>0.057655</td>\n",
       "      <td>5.0</td>\n",
       "      <td>63.0</td>\n",
       "      <td>0.0</td>\n",
       "      <td>3.16725</td>\n",
       "      <td>177.490</td>\n",
       "      <td>0.427865</td>\n",
       "      <td>0.210771</td>\n",
       "      <td>...</td>\n",
       "      <td>184.451</td>\n",
       "      <td>184.992</td>\n",
       "      <td>185.408</td>\n",
       "      <td>185.429</td>\n",
       "      <td>185.931</td>\n",
       "      <td>186.865</td>\n",
       "      <td>186.872</td>\n",
       "      <td>187.016</td>\n",
       "      <td>187.863</td>\n",
       "      <td>188.061</td>\n",
       "    </tr>\n",
       "    <tr>\n",
       "      <th>997</th>\n",
       "      <td>-1.77982</td>\n",
       "      <td>0.998192</td>\n",
       "      <td>0.057655</td>\n",
       "      <td>5.0</td>\n",
       "      <td>63.0</td>\n",
       "      <td>0.0</td>\n",
       "      <td>2.57403</td>\n",
       "      <td>178.193</td>\n",
       "      <td>0.359662</td>\n",
       "      <td>0.332377</td>\n",
       "      <td>...</td>\n",
       "      <td>183.850</td>\n",
       "      <td>184.274</td>\n",
       "      <td>184.904</td>\n",
       "      <td>185.188</td>\n",
       "      <td>185.013</td>\n",
       "      <td>186.763</td>\n",
       "      <td>186.262</td>\n",
       "      <td>186.709</td>\n",
       "      <td>187.069</td>\n",
       "      <td>187.044</td>\n",
       "    </tr>\n",
       "    <tr>\n",
       "      <th>998</th>\n",
       "      <td>-1.86157</td>\n",
       "      <td>0.995453</td>\n",
       "      <td>0.057655</td>\n",
       "      <td>6.0</td>\n",
       "      <td>63.0</td>\n",
       "      <td>0.0</td>\n",
       "      <td>3.20398</td>\n",
       "      <td>175.504</td>\n",
       "      <td>0.538546</td>\n",
       "      <td>0.264491</td>\n",
       "      <td>...</td>\n",
       "      <td>184.887</td>\n",
       "      <td>185.002</td>\n",
       "      <td>185.599</td>\n",
       "      <td>186.075</td>\n",
       "      <td>186.533</td>\n",
       "      <td>186.590</td>\n",
       "      <td>186.726</td>\n",
       "      <td>188.123</td>\n",
       "      <td>188.170</td>\n",
       "      <td>188.421</td>\n",
       "    </tr>\n",
       "    <tr>\n",
       "      <th>999</th>\n",
       "      <td>-1.14357</td>\n",
       "      <td>0.998890</td>\n",
       "      <td>0.057655</td>\n",
       "      <td>5.0</td>\n",
       "      <td>31.0</td>\n",
       "      <td>0.0</td>\n",
       "      <td>2.00331</td>\n",
       "      <td>174.361</td>\n",
       "      <td>0.267422</td>\n",
       "      <td>0.624695</td>\n",
       "      <td>...</td>\n",
       "      <td>178.359</td>\n",
       "      <td>178.929</td>\n",
       "      <td>177.057</td>\n",
       "      <td>178.887</td>\n",
       "      <td>179.294</td>\n",
       "      <td>179.441</td>\n",
       "      <td>179.706</td>\n",
       "      <td>179.644</td>\n",
       "      <td>180.047</td>\n",
       "      <td>181.181</td>\n",
       "    </tr>\n",
       "  </tbody>\n",
       "</table>\n",
       "<p>1000 rows × 60 columns</p>\n",
       "</div>"
      ],
      "text/plain": [
       "        lp__  accept_stat__  stepsize__  treedepth__  n_leapfrog__  \\\n",
       "0   -2.91854       0.491197    0.057655          5.0          47.0   \n",
       "1   -2.88690       0.972222    0.057655          5.0          36.0   \n",
       "2   -2.68445       0.999709    0.057655          4.0          31.0   \n",
       "3   -2.70929       0.961500    0.057655          4.0          23.0   \n",
       "4   -3.35019       0.966877    0.057655          4.0          29.0   \n",
       "..       ...            ...         ...          ...           ...   \n",
       "995 -1.60406       0.749786    0.057655          2.0           4.0   \n",
       "996 -2.13359       0.999849    0.057655          5.0          63.0   \n",
       "997 -1.77982       0.998192    0.057655          5.0          63.0   \n",
       "998 -1.86157       0.995453    0.057655          6.0          63.0   \n",
       "999 -1.14357       0.998890    0.057655          5.0          31.0   \n",
       "\n",
       "     divergent__  energy__    alpha      beta     sigma  ...  height[41]  \\\n",
       "0            0.0   4.84379  167.819  1.347080  1.373400  ...     190.451   \n",
       "1            1.0   4.41304  173.453  2.522500  0.753713  ...     215.992   \n",
       "2            0.0   3.90549  174.727  2.396340  1.091840  ...     216.103   \n",
       "3            0.0   3.07286  175.568  2.430700  1.035940  ...     217.026   \n",
       "4            0.0   3.56991  174.468  2.951160  1.544240  ...     221.674   \n",
       "..           ...       ...      ...       ...       ...  ...         ...   \n",
       "995          1.0   5.10690  173.963  0.308136  0.335692  ...     179.002   \n",
       "996          0.0   3.16725  177.490  0.427865  0.210771  ...     184.451   \n",
       "997          0.0   2.57403  178.193  0.359662  0.332377  ...     183.850   \n",
       "998          0.0   3.20398  175.504  0.538546  0.264491  ...     184.887   \n",
       "999          0.0   2.00331  174.361  0.267422  0.624695  ...     178.359   \n",
       "\n",
       "     height[42]  height[43]  height[44]  height[45]  height[46]  height[47]  \\\n",
       "0       188.614     192.942     195.364     195.717     198.110     200.027   \n",
       "1       216.731     218.987     221.683     224.701     226.200     229.123   \n",
       "2       215.271     218.163     220.183     221.356     227.692     227.001   \n",
       "3       216.870     220.512     223.424     224.307     226.338     229.407   \n",
       "4       227.342     228.574     229.806     233.587     233.940     240.993   \n",
       "..          ...         ...         ...         ...         ...         ...   \n",
       "995     179.557     179.837     179.123     180.128     180.195     180.588   \n",
       "996     184.992     185.408     185.429     185.931     186.865     186.872   \n",
       "997     184.274     184.904     185.188     185.013     186.763     186.262   \n",
       "998     185.002     185.599     186.075     186.533     186.590     186.726   \n",
       "999     178.929     177.057     178.887     179.294     179.441     179.706   \n",
       "\n",
       "     height[48]  height[49]  height[50]  \n",
       "0       202.785     199.105     202.738  \n",
       "1       229.695     233.308     234.611  \n",
       "2       226.120     230.508     233.036  \n",
       "3       232.477     233.434     233.863  \n",
       "4       240.038     242.808     246.358  \n",
       "..          ...         ...         ...  \n",
       "995     180.704     181.438     181.537  \n",
       "996     187.016     187.863     188.061  \n",
       "997     186.709     187.069     187.044  \n",
       "998     188.123     188.170     188.421  \n",
       "999     179.644     180.047     181.181  \n",
       "\n",
       "[1000 rows x 60 columns]"
      ]
     },
     "execution_count": 102,
     "metadata": {},
     "output_type": "execute_result"
    }
   ],
   "source": [
    "sim.draws_pd()"
   ]
  },
  {
   "attachments": {},
   "cell_type": "markdown",
   "metadata": {},
   "source": [
    "1. Plot lines for each sampled slope beta and intercept alpha, verify if possible predicted heights are consistent with minimum (0) and maximum (check Wikipedia) heights observed in nature.\n",
    "2. For each simulated weight plot maximum, minimum, and 5, 25, 50, 75, 95 quantiles of simulated weight (all in the same plot). Compare with observed data. Is observed data possible within the prior model?"
   ]
  },
  {
   "cell_type": "code",
   "execution_count": null,
   "metadata": {},
   "outputs": [
    {
     "data": {
      "image/png": "[encoded data removed]",
      "text/plain": [
       "<Figure size 432x288 with 1 Axes>"
      ]
     },
     "metadata": {
      "needs_background": "light"
     },
     "output_type": "display_data"
    }
   ],
   "source": [
    "# Plot lines for each sampled slope beta and intercept alpha, verify if possible predicted heights are consistent with minimum (0) and maximum (check Wikipedia) heights observed in nature.\n",
    "plot_lines(sim.draws_pd(), data_sim['weight'], n_params=10, alpha=.1, color='blue')"
   ]
  },
  {
   "cell_type": "code",
   "execution_count": null,
   "metadata": {},
   "outputs": [
    {
     "name": "stdout",
     "output_type": "stream",
     "text": [
      "[-18.07209261 -17.20382731 -16.335562   -15.4672967  -14.59903139\n",
      " -13.73076608 -12.86250078 -11.99423547 -11.12597016 -10.25770486\n",
      "  -9.38943955  -8.52117425  -7.65290894  -6.78464363  -5.91637833\n",
      "  -5.04811302  -4.17984772  -3.31158241  -2.4433171   -1.5750518\n",
      "  -0.70678649   0.16147881   1.02974412   1.89800943   2.76627473\n",
      "   3.63454004   4.50280535   5.37107065   6.23933596   7.10760126\n",
      "   7.97586657   8.84413188   9.71239718  10.58066249  11.44892779\n",
      "  12.3171931   13.18545841  14.05372371  14.92198902  15.79025433\n",
      "  16.65851963  17.52678494  18.39505024  19.26331555  20.13158086\n",
      "  20.99984616  21.86811147  22.73637677  23.60464208  24.47290739]\n"
     ]
    },
    {
     "data": {
      "image/png": "[encoded data removed]",
      "text/plain": [
       "<Figure size 432x288 with 1 Axes>"
      ]
     },
     "metadata": {
      "needs_background": "light"
     },
     "output_type": "display_data"
    }
   ],
   "source": [
    "# For each simulated weight plot maximum, minimum, and 5, 25, 50, 75, 95 quantiles of simulated weight (all in the same plot). Compare with observed data. Is observed data possible within the prior model?\n",
    "def plot_quantiles(draws_df, x, n_params, **kwargs):\n",
    "    for i in range(len(draws_df)):\n",
    "        y_ = [val for _, val in draws_df.iloc[i][n_params:].items()]\n",
    "        x_quantile = np.quantile(x, [0, .05, .25, .5, .75, .95, 1])\n",
    "        y_quantile = np.quantile(y_, [0, .05, .25, .5, .75, .95, 1])\n",
    "        plt.scatter(x_quantile, y_quantile, **kwargs)\n",
    "    plt.show()\n",
    "plot_quantiles(sim.draws_pd(), data_sim['weight'], n_params=10, alpha=.1, color='blue')\n"
   ]
  },
  {
   "attachments": {},
   "cell_type": "markdown",
   "metadata": {},
   "source": [
    "## Task 6. Fitting and evaluating model\n"
   ]
  },
  {
   "cell_type": "code",
   "execution_count": null,
   "metadata": {},
   "outputs": [],
   "source": [
    "model_2_fit=CmdStanModel(stan_file='height_2_fit.stan')"
   ]
  },
  {
   "attachments": {},
   "cell_type": "markdown",
   "metadata": {},
   "source": [
    "1. Create ```data_fit``` dictionary containing data from  ```N``` first rows of dataframe\n"
   ]
  },
  {
   "cell_type": "code",
   "execution_count": null,
   "metadata": {},
   "outputs": [
    {
     "ename": "NameError",
     "evalue": "name 'model_2_fit' is not defined",
     "output_type": "error",
     "traceback": [
      "\u001b[0;31m---------------------------------------------------------------------------\u001b[0m",
      "\u001b[0;31mNameError\u001b[0m                                 Traceback (most recent call last)",
      "\u001b[1;32m/root/docs/data_analytics_2023_hszwast/lab_4/lab4.ipynb Cell 36\u001b[0m in \u001b[0;36m<cell line: 3>\u001b[0;34m()\u001b[0m\n\u001b[1;32m      <a href='vscode-notebook-cell://attached-container%2B7b22636f6e7461696e65724e616d65223a222f646174615f616e616c79746963735f32303233227d/root/docs/data_analytics_2023_hszwast/lab_4/lab4.ipynb#X46sdnNjb2RlLXJlbW90ZQ%3D%3D?line=0'>1</a>\u001b[0m \u001b[39m# Create ```data_fit``` dictionary containing data from  ```N``` first rows of dataframe ```d```\u001b[39;00m\n\u001b[0;32m----> <a href='vscode-notebook-cell://attached-container%2B7b22636f6e7461696e65724e616d65223a222f646174615f616e616c79746963735f32303233227d/root/docs/data_analytics_2023_hszwast/lab_4/lab4.ipynb#X46sdnNjb2RlLXJlbW90ZQ%3D%3D?line=2'>3</a>\u001b[0m fit\u001b[39m=\u001b[39mmodel_2_fit\u001b[39m.\u001b[39msample(data\u001b[39m=\u001b[39mdata_fit,seed\u001b[39m=\u001b[39m\u001b[39m28052020\u001b[39m)\n",
      "\u001b[0;31mNameError\u001b[0m: name 'model_2_fit' is not defined"
     ]
    }
   ],
   "source": [
    "data_fit = {'N': 50, 'weight': d.c_weight.values[:50], 'height': d.height.values[:50]} \n",
    "\n",
    "fit=model_2_fit.sample(data=data_fit,seed=28052020)\n"
   ]
  },
  {
   "attachments": {},
   "cell_type": "markdown",
   "metadata": {},
   "source": [
    "2. Plot lines for each sampled slope beta and intercept alpha. Verify how uncertainity changes with increasing of sample (N)\n",
    "2. For each value of weight plot mean simulated height along with errorbar of one standard deviation (use ```errorbar``` from matplotlib). Compare with observed data (N points). Is observed data possible within the posterior model? What changes when N increases.\n"
   ]
  },
  {
   "attachments": {},
   "cell_type": "markdown",
   "metadata": {},
   "source": [
    "## Task 7. Extending the model\n",
    "\n",
    "1. Center the weight data (substract mean vaule of weight from all values). Test how model works for such data. What is the interpretation of $\\alpha$ in such case?\n",
    "2. Using centered data modify your model with a second power of weight, select prior for its coefficient using prior predictive checks and after fitting check if model is still good.\n",
    "3. Try to vectorize the model to avoid necessity of a for loop in the ```model``` block. "
   ]
  },
  {
   "cell_type": "markdown",
   "metadata": {},
   "source": []
  }
 ],
 "metadata": {
  "interpreter": {
   "hash": "dec76d489b07b665fd6e3623e5629f717b1b30c784fea4bb610fb31850689f2f"
  },
  "kernelspec": {
   "display_name": "Python 3 (ipykernel)",
   "language": "python",
   "name": "python3"
  },
  "language_info": {
   "codemirror_mode": {
    "name": "ipython",
    "version": 3
   },
   "file_extension": ".py",
   "mimetype": "text/x-python",
   "name": "python",
   "nbconvert_exporter": "python",
   "pygments_lexer": "ipython3",
   "version": "3.9.11"
  }
 },
 "nbformat": 4,
 "nbformat_minor": 2
}
